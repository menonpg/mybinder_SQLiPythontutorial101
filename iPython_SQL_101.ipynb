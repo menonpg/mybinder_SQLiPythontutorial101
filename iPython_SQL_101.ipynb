{
 "cells": [
  {
   "cell_type": "code",
   "execution_count": 2,
   "metadata": {},
   "outputs": [],
   "source": [
    "#Install SQL context for iPython"
   ]
  },
  {
   "cell_type": "code",
   "execution_count": 3,
   "metadata": {},
   "outputs": [
    {
     "data": {
      "text/plain": [
       "['Requirement already satisfied: ipython-sql in /srv/conda/lib/python3.6/site-packages (0.3.9)',\n",
       " 'Requirement already satisfied: ipython-genutils>=0.1.0 in /srv/conda/lib/python3.6/site-packages (from ipython-sql) (0.2.0)',\n",
       " 'Requirement already satisfied: prettytable in /srv/conda/lib/python3.6/site-packages (from ipython-sql) (0.7.2)',\n",
       " 'Requirement already satisfied: six in /srv/conda/lib/python3.6/site-packages (from ipython-sql) (1.12.0)',\n",
       " 'Requirement already satisfied: ipython>=1.0 in /srv/conda/lib/python3.6/site-packages (from ipython-sql) (7.2.0)',\n",
       " 'Requirement already satisfied: sqlalchemy>=0.6.7 in /srv/conda/lib/python3.6/site-packages (from ipython-sql) (1.2.15)',\n",
       " 'Requirement already satisfied: sqlparse in /srv/conda/lib/python3.6/site-packages (from ipython-sql) (0.2.4)',\n",
       " 'Requirement already satisfied: setuptools>=18.5 in /srv/conda/lib/python3.6/site-packages (from ipython>=1.0->ipython-sql) (40.6.3)',\n",
       " 'Requirement already satisfied: jedi>=0.10 in /srv/conda/lib/python3.6/site-packages (from ipython>=1.0->ipython-sql) (0.13.2)',\n",
       " 'Requirement already satisfied: decorator in /srv/conda/lib/python3.6/site-packages (from ipython>=1.0->ipython-sql) (4.3.0)',\n",
       " 'Requirement already satisfied: pickleshare in /srv/conda/lib/python3.6/site-packages (from ipython>=1.0->ipython-sql) (0.7.5)',\n",
       " 'Requirement already satisfied: traitlets>=4.2 in /srv/conda/lib/python3.6/site-packages (from ipython>=1.0->ipython-sql) (4.3.2)',\n",
       " 'Requirement already satisfied: prompt_toolkit<2.1.0,>=2.0.0 in /srv/conda/lib/python3.6/site-packages (from ipython>=1.0->ipython-sql) (2.0.7)',\n",
       " 'Requirement already satisfied: pygments in /srv/conda/lib/python3.6/site-packages (from ipython>=1.0->ipython-sql) (2.3.1)',\n",
       " 'Requirement already satisfied: backcall in /srv/conda/lib/python3.6/site-packages (from ipython>=1.0->ipython-sql) (0.1.0)',\n",
       " 'Requirement already satisfied: pexpect in /srv/conda/lib/python3.6/site-packages (from ipython>=1.0->ipython-sql) (4.6.0)',\n",
       " 'Requirement already satisfied: parso>=0.3.0 in /srv/conda/lib/python3.6/site-packages (from jedi>=0.10->ipython>=1.0->ipython-sql) (0.3.1)',\n",
       " 'Requirement already satisfied: wcwidth in /srv/conda/lib/python3.6/site-packages (from prompt_toolkit<2.1.0,>=2.0.0->ipython>=1.0->ipython-sql) (0.1.7)',\n",
       " 'Requirement already satisfied: ptyprocess>=0.5 in /srv/conda/lib/python3.6/site-packages (from pexpect->ipython>=1.0->ipython-sql) (0.6.0)']"
      ]
     },
     "execution_count": 3,
     "metadata": {},
     "output_type": "execute_result"
    }
   ],
   "source": [
    "%%!\n",
    "pip install --trusted-host pypi.org ipython-sql"
   ]
  },
  {
   "cell_type": "code",
   "execution_count": 5,
   "metadata": {},
   "outputs": [],
   "source": [
    "#Install Pandas for Python"
   ]
  },
  {
   "cell_type": "code",
   "execution_count": 28,
   "metadata": {},
   "outputs": [
    {
     "data": {
      "text/plain": [
       "['Requirement already satisfied: pandas in /srv/conda/lib/python3.6/site-packages (0.24.0)',\n",
       " 'Requirement already satisfied: xlrd in /srv/conda/lib/python3.6/site-packages (1.2.0)',\n",
       " 'Requirement already satisfied: matplotlib in /srv/conda/lib/python3.6/site-packages (3.0.2)',\n",
       " 'Collecting seaborn',\n",
       " '  Downloading https://files.pythonhosted.org/packages/a8/76/220ba4420459d9c4c9c9587c6ce607bf56c25b3d3d2de62056efe482dadc/seaborn-0.9.0-py3-none-any.whl (208kB)',\n",
       " 'Requirement already satisfied: numpy>=1.12.0 in /srv/conda/lib/python3.6/site-packages (from pandas) (1.16.0)',\n",
       " 'Requirement already satisfied: pytz>=2011k in /srv/conda/lib/python3.6/site-packages (from pandas) (2018.9)',\n",
       " 'Requirement already satisfied: python-dateutil>=2.5.0 in /srv/conda/lib/python3.6/site-packages (from pandas) (2.7.5)',\n",
       " 'Requirement already satisfied: kiwisolver>=1.0.1 in /srv/conda/lib/python3.6/site-packages (from matplotlib) (1.0.1)',\n",
       " 'Requirement already satisfied: cycler>=0.10 in /srv/conda/lib/python3.6/site-packages (from matplotlib) (0.10.0)',\n",
       " 'Requirement already satisfied: pyparsing!=2.0.4,!=2.1.2,!=2.1.6,>=2.0.1 in /srv/conda/lib/python3.6/site-packages (from matplotlib) (2.3.1)',\n",
       " 'Collecting scipy>=0.14.0 (from seaborn)',\n",
       " '  Downloading https://files.pythonhosted.org/packages/67/e6/6d4edaceee6a110ecf6f318482f5229792f143e468b34a631f5a0899f56d/scipy-1.2.0-cp36-cp36m-manylinux1_x86_64.whl (26.6MB)',\n",
       " 'Requirement already satisfied: six>=1.5 in /srv/conda/lib/python3.6/site-packages (from python-dateutil>=2.5.0->pandas) (1.12.0)',\n",
       " 'Requirement already satisfied: setuptools in /srv/conda/lib/python3.6/site-packages (from kiwisolver>=1.0.1->matplotlib) (40.6.3)',\n",
       " 'Installing collected packages: scipy, seaborn',\n",
       " 'Successfully installed scipy-1.2.0 seaborn-0.9.0']"
      ]
     },
     "execution_count": 28,
     "metadata": {},
     "output_type": "execute_result"
    }
   ],
   "source": [
    "%%!\n",
    "pip install pandas xlrd matplotlib seaborn"
   ]
  },
  {
   "cell_type": "code",
   "execution_count": 6,
   "metadata": {},
   "outputs": [],
   "source": [
    "# Load SQL context for iPython\n",
    "%load_ext sql"
   ]
  },
  {
   "cell_type": "code",
   "execution_count": 7,
   "metadata": {},
   "outputs": [
    {
     "data": {
      "text/plain": [
       "'Connected: @None'"
      ]
     },
     "execution_count": 7,
     "metadata": {},
     "output_type": "execute_result"
    }
   ],
   "source": [
    "# Create an SQLite DB connection for this session\n",
    "%sql sqlite://"
   ]
  },
  {
   "cell_type": "code",
   "execution_count": 9,
   "metadata": {},
   "outputs": [
    {
     "name": "stdout",
     "output_type": "stream",
     "text": [
      " * sqlite://\n",
      "Done.\n",
      "Done.\n",
      "1 rows affected.\n",
      "1 rows affected.\n",
      "Done.\n"
     ]
    },
    {
     "data": {
      "text/html": [
       "<table>\n",
       "    <tr>\n",
       "        <th>firstname</th>\n",
       "        <th>lastname</th>\n",
       "    </tr>\n",
       "    <tr>\n",
       "        <td>daffy</td>\n",
       "        <td>duck</td>\n",
       "    </tr>\n",
       "    <tr>\n",
       "        <td>mickey</td>\n",
       "        <td>mouse</td>\n",
       "    </tr>\n",
       "</table>"
      ],
      "text/plain": [
       "[('daffy', 'duck'), ('mickey', 'mouse')]"
      ]
     },
     "execution_count": 9,
     "metadata": {},
     "output_type": "execute_result"
    }
   ],
   "source": [
    "# Lets try creating a table called \"CARTOON\" with two character columns by first defining a schema and then inserting two rows\n",
    "%%sql\n",
    "DROP TABLE IF EXISTS CARTOON;\n",
    "CREATE TABLE CARTOON ( firstname varchar(50), lastname varchar(50));\n",
    "INSERT INTO CARTOON VALUES('daffy', 'duck');\n",
    "INSERT INTO CARTOON VALUES('mickey', 'mouse');\n",
    "SELECT * from CARTOON;"
   ]
  },
  {
   "cell_type": "code",
   "execution_count": 12,
   "metadata": {},
   "outputs": [
    {
     "data": {
      "text/html": [
       "<div>\n",
       "<style scoped>\n",
       "    .dataframe tbody tr th:only-of-type {\n",
       "        vertical-align: middle;\n",
       "    }\n",
       "\n",
       "    .dataframe tbody tr th {\n",
       "        vertical-align: top;\n",
       "    }\n",
       "\n",
       "    .dataframe thead th {\n",
       "        text-align: right;\n",
       "    }\n",
       "</style>\n",
       "<table border=\"1\" class=\"dataframe\">\n",
       "  <thead>\n",
       "    <tr style=\"text-align: right;\">\n",
       "      <th></th>\n",
       "      <th>Female</th>\n",
       "      <th>Male</th>\n",
       "    </tr>\n",
       "  </thead>\n",
       "  <tbody>\n",
       "    <tr>\n",
       "      <th>0</th>\n",
       "      <td>96.4</td>\n",
       "      <td>97.0</td>\n",
       "    </tr>\n",
       "    <tr>\n",
       "      <th>1</th>\n",
       "      <td>96.7</td>\n",
       "      <td>97.0</td>\n",
       "    </tr>\n",
       "    <tr>\n",
       "      <th>2</th>\n",
       "      <td>96.8</td>\n",
       "      <td>97.0</td>\n",
       "    </tr>\n",
       "    <tr>\n",
       "      <th>3</th>\n",
       "      <td>97.2</td>\n",
       "      <td>97.0</td>\n",
       "    </tr>\n",
       "    <tr>\n",
       "      <th>4</th>\n",
       "      <td>97.2</td>\n",
       "      <td>97.1</td>\n",
       "    </tr>\n",
       "  </tbody>\n",
       "</table>\n",
       "</div>"
      ],
      "text/plain": [
       "   Female  Male\n",
       "0    96.4  97.0\n",
       "1    96.7  97.0\n",
       "2    96.8  97.0\n",
       "3    97.2  97.0\n",
       "4    97.2  97.1"
      ]
     },
     "execution_count": 12,
     "metadata": {},
     "output_type": "execute_result"
    }
   ],
   "source": [
    "# Lets load an Excel sheet with two numeric columns representing male and female body temperatures into Python, as a Pandas Data Frame \n",
    "import pandas as pd\n",
    "BodyTempsData = pd.read_excel('BodyTempsData.xlsx')\n",
    "BodyTempsData.columns = ['Female', 'Male']\n",
    "\n",
    "BodyTempsData.head()"
   ]
  },
  {
   "cell_type": "code",
   "execution_count": 19,
   "metadata": {},
   "outputs": [
    {
     "name": "stdout",
     "output_type": "stream",
     "text": [
      " * sqlite://\n",
      "Done.\n"
     ]
    },
    {
     "data": {
      "text/plain": [
       "[]"
      ]
     },
     "execution_count": 19,
     "metadata": {},
     "output_type": "execute_result"
    }
   ],
   "source": [
    "#Load the Pandas Data Frame into an SQL Table in SQLite, but first remove any table with the same name if it exists!\n",
    "%sql DROP TABLE IF EXISTS BodyTempsData;"
   ]
  },
  {
   "cell_type": "code",
   "execution_count": 20,
   "metadata": {},
   "outputs": [
    {
     "name": "stdout",
     "output_type": "stream",
     "text": [
      " * sqlite://\n"
     ]
    },
    {
     "data": {
      "text/plain": [
       "'Persisted bodytempsdata'"
      ]
     },
     "execution_count": 20,
     "metadata": {},
     "output_type": "execute_result"
    }
   ],
   "source": [
    "%sql PERSIST BodyTempsData;"
   ]
  },
  {
   "cell_type": "code",
   "execution_count": 21,
   "metadata": {},
   "outputs": [
    {
     "name": "stdout",
     "output_type": "stream",
     "text": [
      " * sqlite://\n",
      "Done.\n"
     ]
    },
    {
     "data": {
      "text/html": [
       "<table>\n",
       "    <tr>\n",
       "        <th>count(*)</th>\n",
       "    </tr>\n",
       "    <tr>\n",
       "        <td>65</td>\n",
       "    </tr>\n",
       "</table>"
      ],
      "text/plain": [
       "[(65,)]"
      ]
     },
     "execution_count": 21,
     "metadata": {},
     "output_type": "execute_result"
    }
   ],
   "source": [
    "# Lets analyze the data starting with a count of the number of records in the dataset \n",
    "%sql select count(*) from BodyTempsData; "
   ]
  },
  {
   "cell_type": "code",
   "execution_count": 24,
   "metadata": {},
   "outputs": [
    {
     "name": "stdout",
     "output_type": "stream",
     "text": [
      " * sqlite://\n",
      "Done.\n"
     ]
    },
    {
     "data": {
      "text/html": [
       "<table>\n",
       "    <tr>\n",
       "        <th>count(*)</th>\n",
       "    </tr>\n",
       "    <tr>\n",
       "        <td>22</td>\n",
       "    </tr>\n",
       "</table>"
      ],
      "text/plain": [
       "[(22,)]"
      ]
     },
     "execution_count": 24,
     "metadata": {},
     "output_type": "execute_result"
    }
   ],
   "source": [
    "# Lets analyze the data starting with a count of the number of records in the dataset for a specific condition based on a temperature threshold for febrile patients\n",
    "%sql select count(*) from BodyTempsData where Female > 98.4 and Male > 98.4"
   ]
  },
  {
   "cell_type": "code",
   "execution_count": 29,
   "metadata": {},
   "outputs": [],
   "source": [
    "# Lets make some plots to visualize the distributions of temperatures of females v/s male patients\n",
    "# A Boxplot may be a good choice for this and can be implemented in a number of ways, including through matplotlib, as shown below:\n",
    "#import matplotlib.pyplot as plt\n",
    "#fig, ax = plt.subplots(figsize=(10,  10))\n",
    "#BodyTempsData.boxplot(['Female','Male'])"
   ]
  },
  {
   "cell_type": "code",
   "execution_count": 31,
   "metadata": {},
   "outputs": [
    {
     "data": {
      "text/plain": [
       "<matplotlib.axes._subplots.AxesSubplot at 0x7fa9b3c69518>"
      ]
     },
     "execution_count": 31,
     "metadata": {},
     "output_type": "execute_result"
    },
    {
     "data": {
      "image/png": "[encoded data removed]",
      "text/plain": [
       "<Figure size 432x288 with 1 Axes>"
      ]
     },
     "metadata": {
      "needs_background": "light"
     },
     "output_type": "display_data"
    }
   ],
   "source": [
    "#... or through Seaborn - for a much nicer-looking graph! \n",
    "import seaborn as sns\n",
    "sns.boxplot(x=\"variable\", y=\"value\", data=pd.melt(BodyTempsData))"
   ]
  },
  {
   "cell_type": "code",
   "execution_count": 32,
   "metadata": {},
   "outputs": [
    {
     "data": {
      "text/html": [
       "<div>\n",
       "<style scoped>\n",
       "    .dataframe tbody tr th:only-of-type {\n",
       "        vertical-align: middle;\n",
       "    }\n",
       "\n",
       "    .dataframe tbody tr th {\n",
       "        vertical-align: top;\n",
       "    }\n",
       "\n",
       "    .dataframe thead th {\n",
       "        text-align: right;\n",
       "    }\n",
       "</style>\n",
       "<table border=\"1\" class=\"dataframe\">\n",
       "  <thead>\n",
       "    <tr style=\"text-align: right;\">\n",
       "      <th></th>\n",
       "      <th>variable</th>\n",
       "      <th>value</th>\n",
       "    </tr>\n",
       "  </thead>\n",
       "  <tbody>\n",
       "    <tr>\n",
       "      <th>0</th>\n",
       "      <td>Female</td>\n",
       "      <td>96.4</td>\n",
       "    </tr>\n",
       "    <tr>\n",
       "      <th>1</th>\n",
       "      <td>Female</td>\n",
       "      <td>96.7</td>\n",
       "    </tr>\n",
       "    <tr>\n",
       "      <th>2</th>\n",
       "      <td>Female</td>\n",
       "      <td>96.8</td>\n",
       "    </tr>\n",
       "    <tr>\n",
       "      <th>3</th>\n",
       "      <td>Female</td>\n",
       "      <td>97.2</td>\n",
       "    </tr>\n",
       "    <tr>\n",
       "      <th>4</th>\n",
       "      <td>Female</td>\n",
       "      <td>97.2</td>\n",
       "    </tr>\n",
       "  </tbody>\n",
       "</table>\n",
       "</div>"
      ],
      "text/plain": [
       "  variable  value\n",
       "0   Female   96.4\n",
       "1   Female   96.7\n",
       "2   Female   96.8\n",
       "3   Female   97.2\n",
       "4   Female   97.2"
      ]
     },
     "execution_count": 32,
     "metadata": {},
     "output_type": "execute_result"
    }
   ],
   "source": [
    "# Melt the dataset into a new form that has two columns, 'variable' (viz. the original column name) and 'value'\n",
    "BodyTempsDataMelt=pd.melt(BodyTempsData)\n",
    "BodyTempsDataMelt.head()"
   ]
  },
  {
   "cell_type": "code",
   "execution_count": 33,
   "metadata": {},
   "outputs": [
    {
     "name": "stdout",
     "output_type": "stream",
     "text": [
      " * sqlite://\n",
      "Done.\n"
     ]
    },
    {
     "data": {
      "text/plain": [
       "[]"
      ]
     },
     "execution_count": 33,
     "metadata": {},
     "output_type": "execute_result"
    }
   ],
   "source": [
    "# Make this melted Pandas data frame into a table on SQLite, but drop any table with the same name first!\n",
    "%sql DROP TABLE IF EXISTS BodyTempsDataMelt"
   ]
  },
  {
   "cell_type": "code",
   "execution_count": 34,
   "metadata": {},
   "outputs": [
    {
     "name": "stdout",
     "output_type": "stream",
     "text": [
      " * sqlite://\n"
     ]
    },
    {
     "data": {
      "text/plain": [
       "'Persisted bodytempsdatamelt'"
      ]
     },
     "execution_count": 34,
     "metadata": {},
     "output_type": "execute_result"
    }
   ],
   "source": [
    "%sql PERSIST BodyTempsDataMelt"
   ]
  },
  {
   "cell_type": "code",
   "execution_count": 35,
   "metadata": {},
   "outputs": [
    {
     "name": "stdout",
     "output_type": "stream",
     "text": [
      " * sqlite://\n",
      "Done.\n"
     ]
    },
    {
     "data": {
      "text/html": [
       "<table>\n",
       "    <tr>\n",
       "        <th>Gender</th>\n",
       "        <th>NumberOfObservations</th>\n",
       "        <th>MinTemp</th>\n",
       "        <th>MaxTemp</th>\n",
       "    </tr>\n",
       "    <tr>\n",
       "        <td>Female</td>\n",
       "        <td>65</td>\n",
       "        <td>96.4</td>\n",
       "        <td>100.8</td>\n",
       "    </tr>\n",
       "    <tr>\n",
       "        <td>Male</td>\n",
       "        <td>65</td>\n",
       "        <td>97.0</td>\n",
       "        <td>99.5</td>\n",
       "    </tr>\n",
       "</table>"
      ],
      "text/plain": [
       "[('Female', 65, 96.4, 100.8), ('Male', 65, 97.0, 99.5)]"
      ]
     },
     "execution_count": 35,
     "metadata": {},
     "output_type": "execute_result"
    }
   ],
   "source": [
    "# Leverage 'grouping' to get summary statistics defining the count, min and max temperatures for females v/s males\n",
    "%sql SELECT variable as Gender, COUNT(*) as NumberOfObservations , MIN(value) as MinTemp, MAX(value) as MaxTemp FROM BodyTempsDataMelt GROUP BY variable ORDER BY value DESC   --ASC"
   ]
  }
 ],
 "metadata": {
  "kernelspec": {
   "display_name": "Python 3",
   "language": "python",
   "name": "python3"
  },
  "language_info": {
   "codemirror_mode": {
    "name": "ipython",
    "version": 3
   },
   "file_extension": ".py",
   "mimetype": "text/x-python",
   "name": "python",
   "nbconvert_exporter": "python",
   "pygments_lexer": "ipython3",
   "version": "3.6.7"
  }
 },
 "nbformat": 4,
 "nbformat_minor": 1
}
