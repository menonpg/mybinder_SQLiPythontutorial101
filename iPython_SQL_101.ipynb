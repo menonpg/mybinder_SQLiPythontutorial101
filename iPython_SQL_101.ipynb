{
 "cells": [
  {
   "cell_type": "code",
   "execution_count": 2,
   "metadata": {
    "collapsed": false
   },
   "outputs": [
   ],
   "source": [
    "%%!\n",
    "pip install --trusted-host pypi.org ipython-sql"
   ]
  },
  {
   "cell_type": "code",
   "execution_count": 0,
   "metadata": {
    "collapsed": false
   },
   "outputs": [
   ],
   "source": [
    "%load_ext sql"
   ]
  },
  {
   "cell_type": "code",
   "execution_count": 0,
   "metadata": {
    "collapsed": false
   },
   "outputs": [
   ],
   "source": [
    "%sql sqlite://"
   ]
  },
  {
   "cell_type": "code",
   "execution_count": 0,
   "metadata": {
    "collapsed": false
   },
   "outputs": [
   ],
   "source": [
    "%%sql\n",
    "CREATE TABLE CARTOON ( firstname varchar(50), lastname varchar(50));\n",
    "INSERT INTO CARTOON VALUES('daffy', 'duck');\n",
    "INSERT INTO CARTOON VALUES('mickey', 'mouse');\n",
    "SELECT * from CARTOON;\n"
   ]
  },
  {
   "cell_type": "code",
   "execution_count": 0,
   "metadata": {
    "collapsed": false
   },
   "outputs": [
   ],
   "source": [
    "import pandas as pd\n",
    "BodyTempsData = pd.read_excel('BodyTempsData.xlsx')\n",
    "BodyTempsData.columns = ['Female', 'Male']\n",
    "\n",
    "BodyTempsData.head()"
   ]
  },
  {
   "cell_type": "code",
   "execution_count": 0,
   "metadata": {
    "collapsed": false
   },
   "outputs": [
   ],
   "source": [
    "%sql DROP TABLE IF EXISTS BodyTempsData"
   ]
  },
  {
   "cell_type": "code",
   "execution_count": 0,
   "metadata": {
    "collapsed": false
   },
   "outputs": [
   ],
   "source": [
    "%sql PERSIST BodyTempsData"
   ]
  },
  {
   "cell_type": "code",
   "execution_count": 0,
   "metadata": {
    "collapsed": false
   },
   "outputs": [
   ],
   "source": [
    "%sql select count(*) from BodyTempsData where Female_Temp > 98 and Male_Temp > 98"
   ]
  },
  {
   "cell_type": "code",
   "execution_count": 0,
   "metadata": {
    "collapsed": false
   },
   "outputs": [
   ],
   "source": [
    "import matplotlib.pyplot as plt\n",
    "fig, ax = plt.subplots(figsize=(10,  10))\n",
    "BodyTempsData.boxplot(['Female','Male'])"
   ]
  },
  {
   "cell_type": "code",
   "execution_count": 0,
   "metadata": {
    "collapsed": false
   },
   "outputs": [
   ],
   "source": [
    "import seaborn as sns\n",
    "sns.boxplot(x=\"variable\", y=\"value\", data=pd.melt(BodyTempsData))\n"
   ]
  },
  {
   "cell_type": "code",
   "execution_count": 0,
   "metadata": {
    "collapsed": false
   },
   "outputs": [
   ],
   "source": [
    "BodyTempsDataMelt=pd.melt(BodyTempsData)\n",
    "BodyTempsDataMelt.head()"
   ]
  },
  {
   "cell_type": "code",
   "execution_count": 0,
   "metadata": {
    "collapsed": false
   },
   "outputs": [
   ],
   "source": [
    "%sql DROP TABLE IF EXISTS BodyTempsDataMelt"
   ]
  },
  {
   "cell_type": "code",
   "execution_count": 0,
   "metadata": {
    "collapsed": false
   },
   "outputs": [
   ],
   "source": [
    "%sql PERSIST BodyTempsDataMelt"
   ]
  },
  {
   "cell_type": "code",
   "execution_count": 0,
   "metadata": {
    "collapsed": false
   },
   "outputs": [
   ],
   "source": [
    "%sql SELECT variable as Gender, COUNT(*) as NumberOfObservations , MIN(value) as MinTemp, MAX(value) as MaxTemp FROM BodyTempsDataMelt GROUP BY variable ORDER BY value DESC   --ASC"
   ]
  }
 ],
 "metadata": {
  "kernelspec": {
   "display_name": "Python 3 (Ubuntu Linux)",
   "language": "python",
   "name": "python3"
  },
  "language_info": {
   "codemirror_mode": {
    "name": "ipython",
    "version": 3
   },
   "file_extension": ".py",
   "mimetype": "text/x-python",
   "name": "python",
   "nbconvert_exporter": "python",
   "pygments_lexer": "ipython3",
   "version": "3.6.7"
  }
 },
 "nbformat": 4,
 "nbformat_minor": 0
}